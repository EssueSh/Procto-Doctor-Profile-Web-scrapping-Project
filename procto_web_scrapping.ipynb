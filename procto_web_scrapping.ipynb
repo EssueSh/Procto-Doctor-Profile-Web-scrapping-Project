{
  "cells": [
    {
      "cell_type": "code",
      "source": [
        "%%writefile app.py\n",
        "import streamlit as st\n",
        "import requests\n",
        "from bs4 import BeautifulSoup\n",
        "\n",
        "# Function to scrape the number of doctor profiles from Practo\n",
        "def scrape_doctors_count(location, specialization):\n",
        "    # Construct the URL based on the location and specialization\n",
        "    search_url = (f'https://www.practo.com/search/doctors?results_type=doctor'\n",
        "                  f'&q=%5B%7B%22word%22%3A%22{specialization}%22%2C%22autocompleted%22%3Atrue%2C%22category%22%3A%22subspeciality%22%7D%5D'\n",
        "                  f'&city={location}')\n",
        "\n",
        "    # Set the headers to mimic a browser request\n",
        "    headers = {\n",
        "        'User-Agent': 'Mozilla/5.0 (Windows NT 10.0; Win64; x64) AppleWebKit/537.36 (KHTML, like Gecko) Chrome/58.0.3029.110 Safari/537.3'}\n",
        "\n",
        "    # Send an HTTP GET request to the constructed URL\n",
        "    response = requests.get(search_url, headers=headers)\n",
        "\n",
        "    # If the request is successful, parse the HTML content\n",
        "    if response.status_code == 200:\n",
        "        soup = BeautifulSoup(response.text, 'html.parser')\n",
        "\n",
        "        # Find the element containing the doctor count\n",
        "        doctors_count = soup.find('h1', class_='u-xx-large-font u-bold')\n",
        "\n",
        "        # If the doctor count is found, return the count\n",
        "        if doctors_count:\n",
        "            return doctors_count.text.strip()\n",
        "        else:\n",
        "            return \"No doctors information found.\"\n",
        "    else:\n",
        "        return f\"Failed to retrieve data from Practo. Status code: {response.status_code}\"\n",
        "\n",
        "# Streamlit UI components\n",
        "st.title(\"Doctor Profile Scraper\")\n",
        "\n",
        "# Input box for location\n",
        "location = st.text_input(\"Enter Location:\")\n",
        "\n",
        "# Dropdown menu for specialization\n",
        "specializations = [\n",
        "    'General Physician', 'Cardiologist', 'Dermatologist', 'Neurologist',\n",
        "    'Orthopedic', 'Pediatrician', 'Psychiatrist', 'Radiologist'\n",
        "]\n",
        "specialization = st.selectbox(\"Select Medical Specialization:\", specializations)\n",
        "\n",
        "# Scrape button\n",
        "if st.button(\"Scrape\"):\n",
        "    # Perform the scraping using the provided location and specialization\n",
        "    result = scrape_doctors_count(location, specialization)\n",
        "\n",
        "    # Display the result\n",
        "    st.write(f\"Result: {result}\")\n"
      ],
      "metadata": {
        "colab": {
          "base_uri": "https://localhost:8080/"
        },
        "id": "KLNtj6mEGCXP",
        "outputId": "bb164edd-0838-4cf4-e402-b0378c991820"
      },
      "execution_count": 7,
      "outputs": [
        {
          "output_type": "stream",
          "name": "stdout",
          "text": [
            "Overwriting app.py\n"
          ]
        }
      ]
    },
    {
      "cell_type": "code",
      "source": [
        "!wget -q -O - ipv4.icanhazip.com"
      ],
      "metadata": {
        "colab": {
          "base_uri": "https://localhost:8080/"
        },
        "id": "RiiL-bC0GmDI",
        "outputId": "57464301-8147-4092-b858-9b62475c2921"
      },
      "execution_count": 8,
      "outputs": [
        {
          "output_type": "stream",
          "name": "stdout",
          "text": [
            "107.167.183.133\n"
          ]
        }
      ]
    },
    {
      "cell_type": "code",
      "source": [
        "! streamlit run app.py & npx localtunnel --port 8501"
      ],
      "metadata": {
        "colab": {
          "base_uri": "https://localhost:8080/"
        },
        "id": "nrMJjGZpGqMH",
        "outputId": "1bedf268-0c98-4797-a519-c0c06f7f8f73"
      },
      "execution_count": 9,
      "outputs": [
        {
          "output_type": "stream",
          "name": "stdout",
          "text": [
            "\n",
            "Collecting usage statistics. To deactivate, set browser.gatherUsageStats to false.\n",
            "\u001b[0m\n",
            "\u001b[0m\n",
            "\u001b[34m\u001b[1m  You can now view your Streamlit app in your browser.\u001b[0m\n",
            "\u001b[0m\n",
            "\u001b[34m  Local URL: \u001b[0m\u001b[1mhttp://localhost:8501\u001b[0m\n",
            "\u001b[34m  Network URL: \u001b[0m\u001b[1mhttp://172.28.0.12:8501\u001b[0m\n",
            "\u001b[34m  External URL: \u001b[0m\u001b[1mhttp://107.167.183.133:8501\u001b[0m\n",
            "\u001b[0m\n",
            "\u001b[1G\u001b[0JNeed to install the following packages:\n",
            "  localtunnel@2.0.2\n",
            "Ok to proceed? (y) \u001b[20Gy\n",
            "\u001b[K\u001b[?25hyour url is: https://six-bananas-press.loca.lt\n",
            "\u001b[34m  Stopping...\u001b[0m\n",
            "^C\n"
          ]
        }
      ]
    }
  ],
  "metadata": {
    "colab": {
      "provenance": []
    },
    "kernelspec": {
      "display_name": "Python 3",
      "name": "python3"
    },
    "language_info": {
      "name": "python"
    }
  },
  "nbformat": 4,
  "nbformat_minor": 0
}